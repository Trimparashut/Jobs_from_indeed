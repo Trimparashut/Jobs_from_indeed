{
 "cells": [
  {
   "cell_type": "code",
   "execution_count": 1,
   "metadata": {},
   "outputs": [],
   "source": [
    "import pickle\n",
    "import pandas as pd\n",
    "from nltk.stem import WordNetLemmatizer\n",
    "from nltk.corpus import stopwords\n",
    "import re\n",
    "import warnings\n",
    "warnings.filterwarnings('ignore')"
   ]
  },
  {
   "cell_type": "code",
   "execution_count": 2,
   "metadata": {},
   "outputs": [],
   "source": [
    "def clean_text(text):\n",
    "    lemmatizer = WordNetLemmatizer()\n",
    "    text = text.lower()\n",
    "    text = re.sub('[.,:;_%©?*,!@#$%^&()]|[+=]|[[]|[]]|[/]|\"|\\s{2,}|-', ' ', text)\n",
    "    text = ' '.join(lemmatizer.lemmatize(word) for word in text.split())\n",
    "    d = {'1':'one','2':'two','3':'three','4':'four','5':'five','6':'six','7':'seven','8':'eight','9':'nine'}\n",
    "    text = ''.join([d.get(word, word) for word in text])\n",
    "    text = ' '.join(word for word in text.split() if len(word)>1)\n",
    "    return text\n",
    "\n",
    "vect_file = 'vectorizer.pkl'\n",
    "vectorizer = pickle.load(open(vect_file, 'rb'))\n",
    "df = pd.read_csv('new.csv')\n",
    "\n",
    "data = pd.DataFrame(df['description'])\n",
    "data['description'] = data.description.map(lambda x: clean_text(x))\n",
    "tfidf_matrix = vectorizer.transform(data['description'])\n",
    "\n",
    "model_file = 'model.pkl'\n",
    "model = pickle.load(open(model_file, 'rb'))\n",
    "preds = model.predict(tfidf_matrix.toarray())\n",
    "df['target'] = preds"
   ]
  },
  {
   "cell_type": "code",
   "execution_count": 4,
   "metadata": {
    "collapsed": true
   },
   "outputs": [
    {
     "name": "stdout",
     "output_type": "stream",
     "text": [
      "Founded 3 new offers\n",
      "https://www.indeed.com/viewjob?jk=121f3f22729be61b&fccid=1f5763b48f03cfd9&vjs=3\n",
      "Target =  0\n",
      "Is it correct classification?\n",
      "y/ny\n",
      "https://www.indeed.com/viewjob?jk=6c486afc6aa87924&fccid=95fa2b94b684ec6b&vjs=3\n",
      "Target =  1\n",
      "Is it correct classification?\n",
      "y/nn\n",
      "https://www.indeed.com/viewjob?jk=1baafa90c1be83ba&fccid=915b1c0ee87e5e8a&vjs=3\n",
      "Target =  0\n",
      "Is it correct classification?\n",
      "y/ny\n"
     ]
    }
   ],
   "source": [
    "print(f'Founded {df.shape[0]} new offers')\n",
    "for i, row in df.iterrows():\n",
    "    print(row.url)\n",
    "    print('Target = ', row.target)\n",
    "    print('Is it correct classification?')\n",
    "    ans = input('y/n')\n",
    "    if ans == 'n':\n",
    "        if df.target.loc[i] == 0:\n",
    "            df.target.loc[i] = 1\n",
    "        else:\n",
    "            df.target.loc[i] = 0"
   ]
  },
  {
   "cell_type": "code",
   "execution_count": 12,
   "metadata": {},
   "outputs": [],
   "source": [
    "data_bank = pd.read_csv('data_bank.csv')\n",
    "data_bank = pd.concat([data_bank,df],axis=0)\n",
    "data_bank.drop_duplicates(inplace=True)\n",
    "data_bank.to_csv('data_bank.csv',index=False)"
   ]
  }
 ],
 "metadata": {
  "kernelspec": {
   "display_name": "Python 3",
   "language": "python",
   "name": "python3"
  },
  "language_info": {
   "codemirror_mode": {
    "name": "ipython",
    "version": 3
   },
   "file_extension": ".py",
   "mimetype": "text/x-python",
   "name": "python",
   "nbconvert_exporter": "python",
   "pygments_lexer": "ipython3",
   "version": "3.7.6"
  }
 },
 "nbformat": 4,
 "nbformat_minor": 4
}
